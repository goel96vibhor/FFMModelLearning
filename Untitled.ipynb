{
 "cells": [
  {
   "cell_type": "code",
   "execution_count": 1,
   "metadata": {},
   "outputs": [],
   "source": [
    "import pyhs2"
   ]
  },
  {
   "cell_type": "code",
   "execution_count": 2,
   "metadata": {},
   "outputs": [],
   "source": [
    "import pandas as pd\n",
    "import numpy as np\n",
    "\n",
    "arr = np.empty(33)"
   ]
  },
  {
   "cell_type": "code",
   "execution_count": 7,
   "metadata": {},
   "outputs": [
    {
     "name": "stdout",
     "output_type": "stream",
     "text": [
      "Reading package lists... Done\n",
      "Building dependency tree       \n",
      "Reading state information... Done\n",
      "Some packages could not be installed. This may mean that you have\n",
      "requested an impossible situation or if you are using the unstable\n",
      "distribution that some required packages have not yet been created\n",
      "or been moved out of Incoming.\n",
      "The following information may help to resolve the situation:\n",
      "\n",
      "The following packages have unmet dependencies:\n",
      " libc-dev-bin : Depends: libc6 (< 2.25) but 2.26-6 is to be installed\n",
      "                Recommends: manpages-dev but it is not going to be installed\n",
      "E: Unable to correct problems, you have held broken packages.\n"
     ]
    }
   ],
   "source": [
    "!sudo apt-get install -f libc6 libc-dev-bin"
   ]
  },
  {
   "cell_type": "code",
   "execution_count": 3,
   "metadata": {},
   "outputs": [],
   "source": [
    "import pyhs2\n",
    "l=[];\n",
    "count=0;\n",
    "with pyhs2.connect(host='c8-auto-hadoop-service-3.srv.media.net',\n",
    "                   port=10000,\n",
    "                   authMechanism=\"PLAIN\",\n",
    "                   user='hdfs',\n",
    "                   password='',\n",
    "                   database='default') as conn:\n",
    "    with conn.cursor() as cur:\n",
    "        #Show databases\n",
    "        #print cur.getDatabases()\n",
    "        cur.execute(\"select * from misc.ffm_v1_data_daily where chunk_no = 32 and domain_name = 'msn.com' and url_tot_imp > 1000 and kwd_tot_imp > 1000 limit 100000\")\n",
    "        for i in cur.fetch():\n",
    "            count=count+1;\n",
    "#             if(count%1000 ==0):\n",
    "#                 print count;\n",
    "            l.append(i);\n",
    "#             print i\n",
    "            \n",
    "arr = np.asarray(l);"
   ]
  },
  {
   "cell_type": "code",
   "execution_count": 5,
   "metadata": {},
   "outputs": [
    {
     "data": {
      "text/plain": [
       "100000"
      ]
     },
     "execution_count": 5,
     "metadata": {},
     "output_type": "execute_result"
    }
   ],
   "source": [
    "len(l)"
   ]
  },
  {
   "cell_type": "code",
   "execution_count": 6,
   "metadata": {},
   "outputs": [],
   "source": [
    "\n",
    "labels = [\"creative_id\", \"country_code\", \"metro_code\", \"keyword_count\", \"kid\", \"kwt\", \"kbc\", \"domain_name\", \"browser_id\", \"device_id\", \"os_id\", \"url_category\", \"kwd_category_id\", \"view_id\", \"hour_id\", \"canonical_url_hash\", \"trim_url\", \"http_referer\", \"kwp\", \"weight\", \"keyword_impression\", \"kwd_click\", \"ad_click\", \"url_tot_imp\", \"url_tot_conv\", \"url_total_revenue\", \"kwd_tot_imp\", \"kwd_tot_conv\", \"kwd_total_revenue\", \"global_bucket_id\", \"external_call_bit\", \"stats_date\", \"chunk_no\"]"
   ]
  },
  {
   "cell_type": "code",
   "execution_count": 7,
   "metadata": {},
   "outputs": [
    {
     "data": {
      "text/html": [
       "<div>\n",
       "<style scoped>\n",
       "    .dataframe tbody tr th:only-of-type {\n",
       "        vertical-align: middle;\n",
       "    }\n",
       "\n",
       "    .dataframe tbody tr th {\n",
       "        vertical-align: top;\n",
       "    }\n",
       "\n",
       "    .dataframe thead th {\n",
       "        text-align: right;\n",
       "    }\n",
       "</style>\n",
       "<table border=\"1\" class=\"dataframe\">\n",
       "  <thead>\n",
       "    <tr style=\"text-align: right;\">\n",
       "      <th></th>\n",
       "      <th>creative_id</th>\n",
       "      <th>country_code</th>\n",
       "      <th>metro_code</th>\n",
       "      <th>keyword_count</th>\n",
       "      <th>kid</th>\n",
       "      <th>kwt</th>\n",
       "      <th>kbc</th>\n",
       "      <th>domain_name</th>\n",
       "      <th>browser_id</th>\n",
       "      <th>device_id</th>\n",
       "      <th>...</th>\n",
       "      <th>url_tot_imp</th>\n",
       "      <th>url_tot_conv</th>\n",
       "      <th>url_total_revenue</th>\n",
       "      <th>kwd_tot_imp</th>\n",
       "      <th>kwd_tot_conv</th>\n",
       "      <th>kwd_total_revenue</th>\n",
       "      <th>global_bucket_id</th>\n",
       "      <th>external_call_bit</th>\n",
       "      <th>stats_date</th>\n",
       "      <th>chunk_no</th>\n",
       "    </tr>\n",
       "  </thead>\n",
       "  <tbody>\n",
       "    <tr>\n",
       "      <th>0</th>\n",
       "      <td>417117671</td>\n",
       "      <td>CA</td>\n",
       "      <td>0</td>\n",
       "      <td>3</td>\n",
       "      <td>329481833</td>\n",
       "      <td>232</td>\n",
       "      <td>c0f3831826d6510374e6edc36db3762b.d2s</td>\n",
       "      <td>msn.com</td>\n",
       "      <td>5</td>\n",
       "      <td>4</td>\n",
       "      <td>...</td>\n",
       "      <td>35433.288626</td>\n",
       "      <td>31</td>\n",
       "      <td>8.894930</td>\n",
       "      <td>11886</td>\n",
       "      <td>5.0</td>\n",
       "      <td>1.507600</td>\n",
       "      <td>214843</td>\n",
       "      <td>0</td>\n",
       "      <td>20180406</td>\n",
       "      <td>32</td>\n",
       "    </tr>\n",
       "    <tr>\n",
       "      <th>1</th>\n",
       "      <td>417117671</td>\n",
       "      <td>CA</td>\n",
       "      <td>0</td>\n",
       "      <td>3</td>\n",
       "      <td>329494060</td>\n",
       "      <td>284</td>\n",
       "      <td>1202668066</td>\n",
       "      <td>msn.com</td>\n",
       "      <td>14</td>\n",
       "      <td>4</td>\n",
       "      <td>...</td>\n",
       "      <td>3821.204616</td>\n",
       "      <td>4</td>\n",
       "      <td>1.532260</td>\n",
       "      <td>7639671</td>\n",
       "      <td>12478.0</td>\n",
       "      <td>10097.547411</td>\n",
       "      <td>214843</td>\n",
       "      <td>0</td>\n",
       "      <td>20180426</td>\n",
       "      <td>32</td>\n",
       "    </tr>\n",
       "    <tr>\n",
       "      <th>2</th>\n",
       "      <td>417117671</td>\n",
       "      <td>CA</td>\n",
       "      <td>0</td>\n",
       "      <td>3</td>\n",
       "      <td>329502121</td>\n",
       "      <td>201</td>\n",
       "      <td>a11baa17a8bbd1d3380ac161274ced89.d2s</td>\n",
       "      <td>msn.com</td>\n",
       "      <td>14</td>\n",
       "      <td>4</td>\n",
       "      <td>...</td>\n",
       "      <td>83793.804390</td>\n",
       "      <td>38</td>\n",
       "      <td>29.476947</td>\n",
       "      <td>62573</td>\n",
       "      <td>57.0</td>\n",
       "      <td>10.556700</td>\n",
       "      <td>214842</td>\n",
       "      <td>0</td>\n",
       "      <td>20180411</td>\n",
       "      <td>32</td>\n",
       "    </tr>\n",
       "    <tr>\n",
       "      <th>3</th>\n",
       "      <td>417117671</td>\n",
       "      <td>CA</td>\n",
       "      <td>0</td>\n",
       "      <td>3</td>\n",
       "      <td>329513846</td>\n",
       "      <td>284</td>\n",
       "      <td>1202668066</td>\n",
       "      <td>msn.com</td>\n",
       "      <td>6</td>\n",
       "      <td>2</td>\n",
       "      <td>...</td>\n",
       "      <td>52350.250809</td>\n",
       "      <td>30</td>\n",
       "      <td>5.274957</td>\n",
       "      <td>7006418</td>\n",
       "      <td>27790.0</td>\n",
       "      <td>8004.924603</td>\n",
       "      <td>214842</td>\n",
       "      <td>0</td>\n",
       "      <td>20180502</td>\n",
       "      <td>32</td>\n",
       "    </tr>\n",
       "    <tr>\n",
       "      <th>4</th>\n",
       "      <td>417117671</td>\n",
       "      <td>CA</td>\n",
       "      <td>0</td>\n",
       "      <td>3</td>\n",
       "      <td>329513846</td>\n",
       "      <td>284</td>\n",
       "      <td>1202668066</td>\n",
       "      <td>msn.com</td>\n",
       "      <td>6</td>\n",
       "      <td>2</td>\n",
       "      <td>...</td>\n",
       "      <td>150441.394369</td>\n",
       "      <td>220</td>\n",
       "      <td>39.987858</td>\n",
       "      <td>7006418</td>\n",
       "      <td>27790.0</td>\n",
       "      <td>8004.924603</td>\n",
       "      <td>214843</td>\n",
       "      <td>0</td>\n",
       "      <td>20180430</td>\n",
       "      <td>32</td>\n",
       "    </tr>\n",
       "  </tbody>\n",
       "</table>\n",
       "<p>5 rows × 33 columns</p>\n",
       "</div>"
      ],
      "text/plain": [
       "  creative_id country_code metro_code  keyword_count        kid  kwt  \\\n",
       "0   417117671           CA          0              3  329481833  232   \n",
       "1   417117671           CA          0              3  329494060  284   \n",
       "2   417117671           CA          0              3  329502121  201   \n",
       "3   417117671           CA          0              3  329513846  284   \n",
       "4   417117671           CA          0              3  329513846  284   \n",
       "\n",
       "                                    kbc domain_name browser_id device_id  \\\n",
       "0  c0f3831826d6510374e6edc36db3762b.d2s     msn.com          5         4   \n",
       "1                            1202668066     msn.com         14         4   \n",
       "2  a11baa17a8bbd1d3380ac161274ced89.d2s     msn.com         14         4   \n",
       "3                            1202668066     msn.com          6         2   \n",
       "4                            1202668066     msn.com          6         2   \n",
       "\n",
       "     ...       url_tot_imp url_tot_conv url_total_revenue kwd_tot_imp  \\\n",
       "0    ...      35433.288626           31          8.894930       11886   \n",
       "1    ...       3821.204616            4          1.532260     7639671   \n",
       "2    ...      83793.804390           38         29.476947       62573   \n",
       "3    ...      52350.250809           30          5.274957     7006418   \n",
       "4    ...     150441.394369          220         39.987858     7006418   \n",
       "\n",
       "  kwd_tot_conv kwd_total_revenue global_bucket_id external_call_bit  \\\n",
       "0          5.0          1.507600           214843                 0   \n",
       "1      12478.0      10097.547411           214843                 0   \n",
       "2         57.0         10.556700           214842                 0   \n",
       "3      27790.0       8004.924603           214842                 0   \n",
       "4      27790.0       8004.924603           214843                 0   \n",
       "\n",
       "  stats_date  chunk_no  \n",
       "0   20180406        32  \n",
       "1   20180426        32  \n",
       "2   20180411        32  \n",
       "3   20180502        32  \n",
       "4   20180430        32  \n",
       "\n",
       "[5 rows x 33 columns]"
      ]
     },
     "execution_count": 7,
     "metadata": {},
     "output_type": "execute_result"
    }
   ],
   "source": [
    "df = pd.DataFrame(l, columns = labels)\n",
    "df[0:5]"
   ]
  },
  {
   "cell_type": "raw",
   "metadata": {},
   "source": []
  },
  {
   "cell_type": "code",
   "execution_count": 8,
   "metadata": {},
   "outputs": [],
   "source": [
    "urlimpfilter = df['url_tot_imp'] >1000 \n",
    "kwdconvfilter = df['kwd_tot_imp']>1000"
   ]
  },
  {
   "cell_type": "code",
   "execution_count": 9,
   "metadata": {},
   "outputs": [
    {
     "data": {
      "text/plain": [
       "3300000"
      ]
     },
     "execution_count": 9,
     "metadata": {},
     "output_type": "execute_result"
    }
   ],
   "source": [
    "df[urlimpfilter & kwdconvfilter].size"
   ]
  },
  {
   "cell_type": "code",
   "execution_count": 10,
   "metadata": {},
   "outputs": [
    {
     "data": {
      "text/plain": [
       "3300000"
      ]
     },
     "execution_count": 10,
     "metadata": {},
     "output_type": "execute_result"
    }
   ],
   "source": [
    "df.size"
   ]
  },
  {
   "cell_type": "code",
   "execution_count": 47,
   "metadata": {},
   "outputs": [],
   "source": [
    "df.to_csv(\"/opt/ffmpythontests/short_data.csv\", sep='~')"
   ]
  },
  {
   "cell_type": "code",
   "execution_count": null,
   "metadata": {},
   "outputs": [],
   "source": []
  }
 ],
 "metadata": {
  "kernelspec": {
   "display_name": "Python 2",
   "language": "python",
   "name": "python2"
  },
  "language_info": {
   "codemirror_mode": {
    "name": "ipython",
    "version": 2
   },
   "file_extension": ".py",
   "mimetype": "text/x-python",
   "name": "python",
   "nbconvert_exporter": "python",
   "pygments_lexer": "ipython2",
   "version": "2.7.14"
  }
 },
 "nbformat": 4,
 "nbformat_minor": 2
}
